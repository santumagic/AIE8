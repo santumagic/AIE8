{
  "cells": [
    {
      "cell_type": "markdown",
      "metadata": {
        "id": "47eTBHYNP4g1"
      },
      "source": [
        "# Introduction to LCEL and LangGraph: LangChain Powered RAG\n",
        "\n",
        "In the following notebook we're going to focus on learning how to navigate and build useful applications using LangChain, specifically LCEL, and how to integrate different APIs together into a coherent RAG application!\n",
        "\n",
        "We'll be building a RAG system to answer questions about how people use AI, using the \"How People Use AI\" dataset.\n",
        "\n",
        "In the notebook, you'll complete the following Tasks:\n",
        "\n",
        "- 🤝 Breakout Room #2:\n",
        "    1. LangChain and LCEL Concepts\n",
        "    2. Understanding States and Nodes\n",
        "    3. Introduction to QDrant Vector Databases\n",
        "    4. Building a Basic Graph\n",
        "\n",
        "Let's get started!\n",
        "\n"
      ]
    },
    {
      "cell_type": "markdown",
      "metadata": {},
      "source": [
        "## Installation Requirements\n",
        "\n",
        "Also, make sure Ollama is installed and running with the required models pulled (see instructions below).\n"
      ]
    },
    {
      "cell_type": "markdown",
      "metadata": {},
      "source": [
        "## Optional: LangSmith Setup for Tracing and Monitoring\n",
        "\n",
        "LangSmith provides powerful tracing, monitoring, and debugging capabilities for LangChain applications. While not required for this notebook, setting it up will give you valuable insights into your RAG system's performance.\n",
        "\n",
        "### Getting LangSmith Credentials\n",
        "\n",
        "1. **Sign up for LangSmith**: Visit [smith.langchain.com](https://smith.langchain.com) and create a free account\n",
        "2. **Get your API Key**: \n",
        "   - Go to Settings → API Keys\n",
        "   - Create a new API key and copy it\n",
        "3. **Set your environment variables** (choose one method below):\n",
        "\n",
        "**Option A: Set environment variables in your terminal before starting Jupyter:**\n",
        "```bash\n",
        "export LANGCHAIN_TRACING_V2=true\n",
        "export LANGCHAIN_API_KEY=\"your-api-key-here\"\n",
        "export LANGCHAIN_PROJECT=\"RAG-Assignment\"\n",
        "```\n",
        "\n",
        "**Option B: Set them in the notebook (run the cell below):**\n"
      ]
    },
    {
      "cell_type": "code",
      "execution_count": null,
      "metadata": {},
      "outputs": [],
      "source": [
        "# Direct .env loading approach\n",
        "import os\n",
        "from pathlib import Path\n",
        "from dotenv import load_dotenv\n",
        "\n",
        "# Load .env file directly\n",
        "env_path = Path(\"../../../../LEARNING/.env\")\n",
        "# Get the key directly\n",
        "key = os.getenv('LANGCHAIN_AEI8_API_KEY')\n",
        "\n",
        "# Set up LangSmith tracing\n",
        "if key:\n",
        "    os.environ[\"LANGCHAIN_TRACING_V2\"] = \"true\"\n",
        "    os.environ[\"LANGCHAIN_API_KEY\"] = key\n",
        "    os.environ[\"LANGCHAIN_PROJECT\"] = \"RAG-Assignment\"\n",
        "    print(\"✅ LangSmith tracing enabled\")\n",
        "else:\n",
        "    print(\"⚠️ LangSmith API key not found\")\n",
        "\n",
        "# Show status\n",
        "print(\"Tracing:\", os.getenv(\"LANGCHAIN_TRACING_V2\", \"false\"))\n",
        "print(\"Project:\", os.getenv(\"LANGCHAIN_PROJECT\", \"Not set\"))"
      ]
    },
    {
      "cell_type": "markdown",
      "metadata": {},
      "source": [
        "### What LangSmith Provides\n",
        "\n",
        "Once set up, LangSmith will automatically trace your LangChain operations and provide:\n",
        "\n",
        "- **Execution traces**: See exactly how your RAG pipeline processes each query\n",
        "- **Performance metrics**: Monitor latency, token usage, and costs\n",
        "- **Debugging tools**: Inspect intermediate outputs at each step\n",
        "- **Error tracking**: Identify and debug issues in your chains\n",
        "- **Dataset management**: Collect and organize your queries and responses\n",
        "\n",
        "You can view all traces and analytics in your LangSmith dashboard at [smith.langchain.com](https://smith.langchain.com).\n",
        "\n",
        "> **Note**: LangSmith is completely optional for this assignment. The notebook will work perfectly fine without it, but it's a valuable tool for production applications.\n"
      ]
    },
    {
      "cell_type": "markdown",
      "metadata": {
        "id": "2ayVXHXHRE_t"
      },
      "source": [
        "# 🤝 Breakout Room #2"
      ]
    },
    {
      "cell_type": "markdown",
      "metadata": {
        "id": "sl6wTp9C5qbY"
      },
      "source": [
        "## Set Up Ollama\n",
        "\n",
        "We'll be using Ollama to run local LLM models. Make sure you have Ollama installed and running:\n",
        "\n",
        "1. Install Ollama from https://ollama.ai (`curl https://ollama.ai/install.sh | sh`)\n",
        "2. Make sure the output of `ollama -v` reads `0.11.10` or greater.\n",
        "2. Pull the models we'll use:\n",
        "   ```bash\n",
        "   ollama pull gpt-oss:20b # For the chat model\n",
        "   ollama pull embeddinggemma:latest  # For embeddings\n",
        "   ```\n",
        "3. Ensure Ollama is running (it should start automatically after installation)"
      ]
    },
    {
      "cell_type": "markdown",
      "metadata": {
        "id": "QTsujAkpRWpJ"
      },
      "source": [
        "### A Note On Runnables\n",
        "\n",
        "# Understanding LangChain Runnables and LCEL\n",
        "\n",
        "In LangChain, a Runnable is like a LEGO brick in your AI application - it's a standardized component that can be easily connected with other components. The real power of Runnables comes from their ability to be combined in flexible ways using LCEL (LangChain Expression Language).\n",
        "\n",
        "## Key Features of Runnables\n",
        "\n",
        "### 1. Universal Interface\n",
        "Every Runnable in LangChain follows the same pattern:\n",
        "- Takes an input\n",
        "- Performs some operation\n",
        "- Returns an output\n",
        "\n",
        "This consistency means you can treat different components (like models, retrievers, or parsers) in the same way.\n",
        "\n",
        "### 2. Built-in Parallelization\n",
        "Runnables come with methods for handling multiple inputs efficiently:\n",
        "```python\n",
        "# Process inputs in parallel, maintain order\n",
        "results = chain.batch([input1, input2, input3])\n",
        "\n",
        "# Process inputs as they complete\n",
        "for result in chain.batch_as_completed([input1, input2, input3]):\n",
        "    print(result)\n",
        "```\n",
        "\n",
        "### 3. Streaming Support\n",
        "Perfect for responsive applications:\n",
        "```python\n",
        "# Stream outputs as they're generated\n",
        "for chunk in chain.stream({\"query\": \"Tell me a story\"}):\n",
        "    print(chunk, end=\"\", flush=True)\n",
        "```\n",
        "\n",
        "### 4. Easy Composition\n",
        "The `|` operator makes building pipelines intuitive:\n",
        "```python\n",
        "# Create a basic RAG chain\n",
        "rag_chain = retriever | prompt | model | output_parser\n",
        "```\n",
        "\n",
        "## Common Types of Runnables\n",
        "\n",
        "- **Language Models**: Like our `ChatOllama` instance (running locally with Ollama)\n",
        "- **Prompt Templates**: Format inputs consistently\n",
        "- **Retrievers**: Get relevant context from a vector store\n",
        "- **Output Parsers**: Structure model outputs\n",
        "- **LangGraph Nodes**: Individual components in our graph\n",
        "\n",
        "Think of Runnables as the building blocks of your LLM application. Just like how you can combine LEGO bricks in countless ways, you can mix and match Runnables to create increasingly sophisticated applications!\n",
        "\n"
      ]
    },
    {
      "cell_type": "markdown",
      "metadata": {
        "id": "kaVlJiilDzwM"
      },
      "source": [
        "## LangGraph Based RAG\n",
        "\n",
        "Now that we have a reasonable grasp of LCEL and the idea of Runnables - let's see how we can use LangGraph to build the same system!"
      ]
    },
    {
      "cell_type": "markdown",
      "metadata": {
        "id": "I77-NKo1EowG"
      },
      "source": [
        "### Primer: What is LangGraph?\n",
        "LangGraph is a tool that leverages LangChain Expression Language to build coordinated multi-actor and stateful applications that includes cyclic behaviour.\n",
        "\n",
        "#### Why Cycles?\n",
        "In essence, we can think of a cycle in our graph as a more robust and customizable loop. It allows us to keep our application agent-forward while still giving the powerful functionality of traditional loops.\n",
        "\n",
        "Due to the inclusion of cycles over loops, we can also compose rather complex flows through our graph in a much more readable and natural fashion. Effectively allowing us to recreate application flowcharts in code in an almost 1-to-1 fashion.\n",
        "\n",
        "#### Why LangGraph?\n",
        "Beyond the agent-forward approach - we can easily compose and combine traditional \"DAG\" (directed acyclic graph) chains with powerful cyclic behaviour due to the tight integration with LCEL. This means it's a natural extension to LangChain's core offerings!\n",
        "\n",
        "> NOTE: We're going to focus on building a simple DAG for today's assignment as an introduction to LangGraph"
      ]
    },
    {
      "cell_type": "markdown",
      "metadata": {
        "id": "kfLCnMXNE_Qc"
      },
      "source": [
        "### Putting the State in Stateful\n",
        "\n",
        "Earlier we used this phrasing:\n",
        "\n",
        "> coordinated multi-actor and stateful applications\n",
        "\n",
        "So what does that \"stateful\" mean?\n",
        "\n",
        "To put it simply - we want to have some kind of object which we can pass around our application that holds information about what the current situation (state) is. Since our system will be constructed of many parts moving in a coordinated fashion - we want to be able to ensure we have some commonly understood idea of that state.\n",
        "\n",
        "LangGraph leverages a `StatefulGraph` which uses an `AgentState` object to pass information between the various nodes of the graph.\n",
        "\n",
        "There are more options than what we'll see below - but this `AgentState` object is one that is stored in a `TypedDict` with the key `messages` and the value is a `Sequence` of `BaseMessages` that will be appended to whenever the state changes.\n",
        "\n",
        "However, in our example here, we're focusing on a simpler `State` object:\n",
        "\n",
        "```python\n",
        "class State(TypedDict):\n",
        "    question: str\n",
        "    context: list[Document]\n",
        "    response: str\n",
        "```\n",
        "\n",
        "Let's think about a simple example to help understand exactly what this means (we'll simplify a great deal to try and clearly communicate what state is doing):\n",
        "\n",
        "1. **We initialize our state object**:\n",
        "   ```python\n",
        "   {\n",
        "       \"question\": \"\",\n",
        "       \"context\": [],\n",
        "       \"response\": \"\"\n",
        "   }\n",
        "   ```\n",
        "\n",
        "2. **Our user submits a query to our application.**  \n",
        "   We store the user's question in `state[\"question\"]`. Now we have:\n",
        "   ```python\n",
        "   {\n",
        "       \"question\": \"How tall is the Eiffel Tower?\",\n",
        "       \"context\": [],\n",
        "       \"response\": \"\"\n",
        "   }\n",
        "   ```\n",
        "\n",
        "3. **We pass our state object to an Agent node** which is able to read the current state. It will use the value of `state[\"question\"]` as input and might retrieve some context documents related to the question. It then generates a response which it stores in `state[\"response\"]`. For example:\n",
        "   ```python\n",
        "   {\n",
        "       \"question\": \"How tall is the Eiffel Tower?\",\n",
        "       \"context\": [Document(page_content=\"...some data...\")],\n",
        "       \"response\": \"The Eiffel Tower is about 324 meters tall...\"\n",
        "   }\n",
        "   ```\n",
        "\n",
        "That's it! The important part is that we have a consistent object (`State`) that's passed around, holding the crucial information as we go from one node to the next. This ensures our application has a single source of truth about what has happened so far and what is happening now.\n",
        "\n"
      ]
    },
    {
      "cell_type": "code",
      "execution_count": 3,
      "metadata": {
        "id": "kxczzsfVFNWT"
      },
      "outputs": [],
      "source": [
        "from langgraph.graph import START, StateGraph\n",
        "from typing_extensions import TypedDict\n",
        "from langchain_core.documents import Document\n",
        "\n",
        "class State(TypedDict):\n",
        "  question: str\n",
        "  context: list[Document]\n",
        "  response: str"
      ]
    },
    {
      "cell_type": "markdown",
      "metadata": {
        "id": "6l6xFY0_HoXG"
      },
      "source": [
        "Now that we have state, and we have tools, and we have an LLM - we can finally start making our graph!\n",
        "\n",
        "Let's take a second to refresh ourselves about what a graph is in this context.\n",
        "\n",
        "Graphs, also called networks in some circles, are a collection of connected objects.\n",
        "\n",
        "The objects in question are typically called nodes, or vertices, and the connections are called edges.\n",
        "\n",
        "Let's look at a simple graph.\n",
        "\n",
        "![image](https://i.imgur.com/2NFLnIc.png)\n",
        "\n",
        "Here, we're using the coloured circles to represent the nodes and the yellow lines to represent the edges. In this case, we're looking at a fully connected graph - where each node is connected by an edge to each other node.\n",
        "\n",
        "If we were to think about nodes in the context of LangGraph - we would think of a function, or an LCEL Runnable.\n",
        "\n",
        "If we were to think about edges in the context of LangGraph - we might think of them as \"paths to take\" or \"where to pass our state object next\".  "
      ]
    },
    {
      "cell_type": "markdown",
      "metadata": {
        "id": "keL9O1drInw1"
      },
      "source": [
        "### Building Nodes\n",
        "\n",
        "We're going to need two nodes:\n",
        "\n",
        "A node for retrieval, and a node for generation.\n",
        "\n",
        "Let's start with our `retrieve` node!\n",
        "\n",
        "Notice how we do not need to update the state object in the node, but can instead return a modification directly to our state."
      ]
    },
    {
      "cell_type": "markdown",
      "metadata": {},
      "source": [
        "#### Building a Retriever with LangChain\n",
        "\n",
        "In order to build our `retrieve` node, we'll first need to build a retriever!\n",
        "\n",
        "This will involve the following steps: \n",
        "\n",
        "1. Ingesting Data\n",
        "2. Chunking the Data\n",
        "3. Vectorizing the Data and Storing it in a Vector Database\n",
        "4. Converting it to a Retriever"
      ]
    },
    {
      "cell_type": "markdown",
      "metadata": {},
      "source": [
        "##### Retreiver Step 1: Ingesting Data\n",
        "\n",
        "In today's lesson, we're going to be building a RAG system to answer questions about how people use AI - and we will pull information into our index (vectorized chunks stored in our vector store) through LangChain's [`PyMuPDFLoader`](https://python.langchain.com/api_reference/community/document_loaders/langchain_community.document_loaders.pdf.PyMuPDFLoader.html)!"
      ]
    },
    {
      "cell_type": "markdown",
      "metadata": {},
      "source": [
        "> NOTE: We'll be using an async loader during our document ingesting - but our Jupyter Kernel is already running in an asyc loop! This means we'll want the ability to *nest* async loops. "
      ]
    },
    {
      "cell_type": "code",
      "execution_count": 4,
      "metadata": {},
      "outputs": [],
      "source": [
        "import nest_asyncio\n",
        "\n",
        "nest_asyncio.apply()"
      ]
    },
    {
      "cell_type": "markdown",
      "metadata": {},
      "source": [
        "Now, we're good to load our documents through the [`PyMuPDFLoader`](https://python.langchain.com/api_reference/community/document_loaders/langchain_community.document_loaders.pdf.PyMuPDFLoader.html)!"
      ]
    },
    {
      "cell_type": "code",
      "execution_count": 5,
      "metadata": {},
      "outputs": [],
      "source": [
        "from langchain_community.document_loaders import DirectoryLoader\n",
        "from langchain_community.document_loaders import PyMuPDFLoader\n",
        "\n",
        "directory_loader = DirectoryLoader(\"data\", glob=\"**/*.pdf\", loader_cls=PyMuPDFLoader)\n",
        "\n",
        "ai_usage_knowledge_resources = directory_loader.load()"
      ]
    },
    {
      "cell_type": "code",
      "execution_count": 6,
      "metadata": {},
      "outputs": [
        {
          "data": {
            "text/plain": [
              "'NBER WORKING PAPER SERIES\\nHOW PEOPLE USE CHATGPT\\nAaron Chatterji\\nThomas Cunningham\\nDavid J. Deming\\nZoe Hitzig\\nChristopher Ong\\nCarl Yan Shan\\nKevin Wadman\\nWorking Paper 34255\\nhttp://www.nber.org/papers/w34255\\nNATIONAL BUREAU OF ECONOMIC RESEARCH\\n1050 Massachusetts Avenue\\nCambridge, MA 02138\\nSeptember 2025\\nWe acknowledge help and comments from Joshua Achiam, Hemanth Asirvatham, Ryan \\nBeiermeister, Rachel Brown, Cassandra Duchan Solis, Jason Kwon, Elliott Mokski, Kevin Rao, \\nHarrison Satcher, Gawesha Weeratunga, Hannah Wong, and Analytics & Insights team. We \\nespecially thank Tyna Eloundou and Pamela Mishkin who in several ways laid the foundation for \\nthis work. This study was approved by Harvard IRB (IRB25-0983). A repository containing all \\ncode run to produce the analyses in this paper is available on request. The views expressed herein \\nare those of the authors and do not necessarily reflect the views of the National Bureau of \\nEconomic Research.\\nAt least one co-author has disclosed a'"
            ]
          },
          "execution_count": 6,
          "metadata": {},
          "output_type": "execute_result"
        }
      ],
      "source": [
        "ai_usage_knowledge_resources[0].page_content[:1000]"
      ]
    },
    {
      "cell_type": "markdown",
      "metadata": {},
      "source": [
        "#### TextSplitting aka Chunking\n",
        "\n",
        "We'll use the `RecursiveCharacterTextSplitter` to create our toy example.\n",
        "\n",
        "It will split based on the following rules:\n",
        "\n",
        "- Each chunk has a maximum size of 1000 tokens\n",
        "- It will try and split first on the `\\n\\n` character, then on the `\\n`, then on the `<SPACE>` character, and finally it will split on individual tokens.\n",
        "\n",
        "Let's implement it and see the results!"
      ]
    },
    {
      "cell_type": "code",
      "execution_count": 7,
      "metadata": {},
      "outputs": [],
      "source": [
        "import tiktoken\n",
        "from langchain.text_splitter import RecursiveCharacterTextSplitter\n",
        "\n",
        "def tiktoken_len(text):\n",
        "    # Using cl100k_base encoding which is a good general-purpose tokenizer\n",
        "    # This works well for estimating token counts even with Ollama models\n",
        "    tokens = tiktoken.get_encoding(\"cl100k_base\").encode(\n",
        "        text,\n",
        "    )\n",
        "    return len(tokens)\n",
        "\n",
        "text_splitter = RecursiveCharacterTextSplitter(\n",
        "    chunk_size = 750,\n",
        "    chunk_overlap = 0,\n",
        "    length_function = tiktoken_len,\n",
        ")"
      ]
    },
    {
      "cell_type": "code",
      "execution_count": 8,
      "metadata": {},
      "outputs": [],
      "source": [
        "ai_usage_knowledge_chunks = text_splitter.split_documents(ai_usage_knowledge_resources)"
      ]
    },
    {
      "cell_type": "markdown",
      "metadata": {},
      "source": [
        "##### 🏗️ Activity #1:\n",
        "\n",
        "While there's nothing specifically wrong with the chunking method used above - it is a naive approach that is not sensitive to specific data formats.\n",
        "\n",
        "Brainstorm some ideas that would split large single documents into smaller documents.\n",
        "\n",
        "1. `YOUR IDEA HERE`\n",
        "2. `YOUR IDEA HERE`\n",
        "3. `YOUR IDEA HERE`"
      ]
    },
    {
      "cell_type": "markdown",
      "metadata": {},
      "source": [
        "# IDEA 1. Split by Sentences"
      ]
    },
    {
      "cell_type": "code",
      "execution_count": 9,
      "metadata": {},
      "outputs": [
        {
          "name": "stdout",
          "output_type": "stream",
          "text": [
            "=== Splitting by Sentences ===\n",
            "Found 4 sentences\n",
            "Chunk 1: Hello world. This is a test. How are you today? I ...\n",
            "Total: 1 chunks\n"
          ]
        },
        {
          "data": {
            "text/plain": [
              "['Hello world. This is a test. How are you today? I am fine. Thank you for asking.']"
            ]
          },
          "execution_count": 9,
          "metadata": {},
          "output_type": "execute_result"
        }
      ],
      "source": [
        "# Split text into complete sentences instead of random pieces\n",
        "def split_by_sentences(text):\n",
        "    print(\"=== Splitting by Sentences ===\")\n",
        "    sentences = text.split('. ')\n",
        "    print(f\"Found {len(sentences)} sentences\")\n",
        "    \n",
        "    chunks = []\n",
        "    current_chunk = \"\"\n",
        "    \n",
        "    for sentence in sentences:\n",
        "        if len(current_chunk + sentence) > 500:  # If too big, start new chunk\n",
        "            if current_chunk:\n",
        "                chunks.append(current_chunk)\n",
        "                print(f\"Chunk {len(chunks)}: {current_chunk[:50]}...\")\n",
        "            current_chunk = sentence\n",
        "        else:\n",
        "            current_chunk += \". \" + sentence if current_chunk else sentence\n",
        "    \n",
        "    if current_chunk:\n",
        "        chunks.append(current_chunk)\n",
        "        print(f\"Chunk {len(chunks)}: {current_chunk[:50]}...\")\n",
        "    \n",
        "    print(f\"Total: {len(chunks)} chunks\")\n",
        "    return chunks\n",
        "\n",
        "# Test it\n",
        "text = \"Hello world. This is a test. How are you today? I am fine. Thank you for asking.\"\n",
        "split_by_sentences(text)"
      ]
    },
    {
      "cell_type": "markdown",
      "metadata": {},
      "source": [
        "# IDEA 2. Split by Paragraphs"
      ]
    },
    {
      "cell_type": "code",
      "execution_count": 10,
      "metadata": {},
      "outputs": [
        {
          "name": "stdout",
          "output_type": "stream",
          "text": [
            "=== Splitting by Paragraphs ===\n",
            "Found 3 paragraphs\n",
            "Chunk 1: First paragraph here. It has some content....\n",
            "Chunk 2: Second paragraph here. It also has content....\n",
            "Chunk 3: Third paragraph here....\n",
            "Total: 3 chunks\n"
          ]
        },
        {
          "data": {
            "text/plain": [
              "['First paragraph here. It has some content.',\n",
              " 'Second paragraph here. It also has content.',\n",
              " 'Third paragraph here.']"
            ]
          },
          "execution_count": 10,
          "metadata": {},
          "output_type": "execute_result"
        }
      ],
      "source": [
        "# Split text into paragraphs (double line breaks)\n",
        "def split_by_paragraphs(text):\n",
        "    print(\"=== Splitting by Paragraphs ===\")\n",
        "    paragraphs = text.split('\\n\\n')\n",
        "    print(f\"Found {len(paragraphs)} paragraphs\")\n",
        "    \n",
        "    chunks = []\n",
        "    for i, paragraph in enumerate(paragraphs):\n",
        "        if len(paragraph) > 20:  # Only keep long paragraphs\n",
        "            chunks.append(paragraph)\n",
        "            print(f\"Chunk {len(chunks)}: {paragraph[:50]}...\")\n",
        "    \n",
        "    print(f\"Total: {len(chunks)} chunks\")\n",
        "    return chunks\n",
        "\n",
        "# Test it\n",
        "text = \"\"\"First paragraph here. It has some content.\n",
        "\n",
        "Second paragraph here. It also has content.\n",
        "\n",
        "Third paragraph here.\"\"\"\n",
        "split_by_paragraphs(text)"
      ]
    },
    {
      "cell_type": "markdown",
      "metadata": {},
      "source": [
        "# IDEA 3. Split with Overlap"
      ]
    },
    {
      "cell_type": "code",
      "execution_count": 11,
      "metadata": {},
      "outputs": [
        {
          "name": "stdout",
          "output_type": "stream",
          "text": [
            "=== Splitting with Overlap ===\n",
            "Chunk size: 100, Overlap: 20\n",
            "Chunk 1: This is a very long text that we want to split int...\n",
            "Chunk 2: rlap between them....\n",
            "Total: 2 chunks\n"
          ]
        },
        {
          "data": {
            "text/plain": [
              "['This is a very long text that we want to split into smaller pieces with some overlap between them.',\n",
              " 'rlap between them.']"
            ]
          },
          "execution_count": 11,
          "metadata": {},
          "output_type": "execute_result"
        }
      ],
      "source": [
        "# Split text but keep some overlap between chunks\n",
        "def split_with_overlap(text, size=100, overlap=20):\n",
        "    print(\"=== Splitting with Overlap ===\")\n",
        "    print(f\"Chunk size: {size}, Overlap: {overlap}\")\n",
        "    \n",
        "    chunks = []\n",
        "    start = 0\n",
        "    \n",
        "    while start < len(text):\n",
        "        end = start + size\n",
        "        chunk = text[start:end]\n",
        "        chunks.append(chunk)\n",
        "        print(f\"Chunk {len(chunks)}: {chunk[:50]}...\")\n",
        "        start = end - overlap  # Move forward but keep overlap\n",
        "    \n",
        "    print(f\"Total: {len(chunks)} chunks\")\n",
        "    return chunks\n",
        "\n",
        "# Test it\n",
        "text = \"This is a very long text that we want to split into smaller pieces with some overlap between them.\"\n",
        "split_with_overlap(text)"
      ]
    },
    {
      "cell_type": "markdown",
      "metadata": {},
      "source": [
        "#### Embeddings and Dense Vector Search\n",
        "\n",
        "Now that we have our individual chunks, we need a system to correctly select the relevant pieces of information to answer our query.\n",
        "\n",
        "This sounds like a perfect job for embeddings!\n",
        "\n",
        "We'll be using Ollama's `embeddinggemma` model as our embedding model today! This is a powerful open-source embedding model that runs locally.\n",
        "\n",
        "Let's load it up through LangChain."
      ]
    },
    {
      "cell_type": "code",
      "execution_count": 12,
      "metadata": {},
      "outputs": [],
      "source": [
        "from langchain_ollama import OllamaEmbeddings\n",
        " \n",
        "# Using embeddinggemma which is a powerful open-source embedding model\n",
        "embedding_model = OllamaEmbeddings(model=\"embeddinggemma:latest\")"
      ]
    },
    {
      "cell_type": "markdown",
      "metadata": {},
      "source": [
        "##### ❓ Question #1:\n",
        "\n",
        "What is the embedding dimension, given that we're using `embeddinggemma`?\n",
        "\n",
        "You will need to fill the next cell out correctly with your embedding dimension for the rest of the notebook to run."
      ]
    },
    {
      "cell_type": "code",
      "execution_count": 13,
      "metadata": {},
      "outputs": [],
      "source": [
        "embedding_dim = 768  "
      ]
    },
    {
      "cell_type": "markdown",
      "metadata": {},
      "source": [
        "#### Using A Vector Database - Intoduction to Qdrant\n",
        "\n",
        "Up to this point, we've been using a dictionary to hold our embeddings - typically, we'll want to use a more robust strategy.\n",
        "\n",
        "In this bootcamp - we'll be focusing on leveraging [Qdrant's vector database](https://qdrant.tech/qdrant-vector-database/).\n",
        "\n",
        "Let's take a look at how we set-up Qdrant!\n",
        "\n",
        "> NOTE: We'll be spending a lot of time learning about Qdrant throughout the remainder of our time together - but for an initial primer, please check out [this resource](https://qdrant.tech/articles/what-is-a-vector-database/)\n",
        "\n",
        "We are going to be using an \"in-memory\" Qdrant client, which means that our vectors will be held in our system's memory (RAM) - this is useful for prototyping and developement at smaller scales - but would need to be modified when moving to production. Luckily for us, this modification is trivial!\n",
        "\n",
        "> NOTE: While LangChain uses the terminology \"VectorStore\" (also known as a Vector Library), Qdrant is a \"Vector Database\" - more info. on that [here.](https://weaviate.io/blog/vector-library-vs-vector-database)"
      ]
    },
    {
      "cell_type": "code",
      "execution_count": 14,
      "metadata": {},
      "outputs": [],
      "source": [
        "from langchain_qdrant import QdrantVectorStore\n",
        "from qdrant_client import QdrantClient\n",
        "from qdrant_client.http.models import Distance, VectorParams\n",
        "\n",
        "client = QdrantClient(\":memory:\")"
      ]
    },
    {
      "cell_type": "markdown",
      "metadata": {},
      "source": [
        "Next, we need to create a collection - a collection is a specific...collection of vectors within the Qdrant client.\n",
        "\n",
        "These are useful as they allow us to create multiple different \"warehouses\" in a single client, which can be leveraged for personalization and more!\n",
        "\n",
        "Also notice that we define what our vector shapes are (embedding dim) as well as our desired distance metric."
      ]
    },
    {
      "cell_type": "code",
      "execution_count": 15,
      "metadata": {},
      "outputs": [
        {
          "data": {
            "text/plain": [
              "True"
            ]
          },
          "execution_count": 15,
          "metadata": {},
          "output_type": "execute_result"
        }
      ],
      "source": [
        "client.create_collection(\n",
        "    collection_name=\"ai_usage_knowledge_index\",\n",
        "    vectors_config=VectorParams(size=embedding_dim, distance=Distance.COSINE),\n",
        ")"
      ]
    },
    {
      "cell_type": "markdown",
      "metadata": {},
      "source": [
        "Now we can assemble our vector database! Notice that we provide our client, our created collection, and our embedding model!"
      ]
    },
    {
      "cell_type": "code",
      "execution_count": 16,
      "metadata": {},
      "outputs": [],
      "source": [
        "vector_store = QdrantVectorStore(\n",
        "    client=client,\n",
        "    collection_name=\"ai_usage_knowledge_index\",\n",
        "    embedding=embedding_model,\n",
        ")"
      ]
    },
    {
      "cell_type": "markdown",
      "metadata": {},
      "source": [
        "Now that we have our vector database set-up, we can add our documents into it!"
      ]
    },
    {
      "cell_type": "code",
      "execution_count": 17,
      "metadata": {},
      "outputs": [],
      "source": [
        "_ = vector_store.add_documents(documents=ai_usage_knowledge_chunks)"
      ]
    },
    {
      "cell_type": "markdown",
      "metadata": {},
      "source": [
        "#### Creating a Retriever\n",
        "\n",
        "Now that we have an idea of how we're getting our most relevant information - let's see how we could create a pipeline that would automatically extract the closest chunk to our query and use it as context for our prompt!\n",
        "\n",
        "This will involve a popular LangChain interace known as `as_retriever`!\n",
        "\n",
        "> NOTE: We can still specify how many documents we wish to retrieve per vector."
      ]
    },
    {
      "cell_type": "code",
      "execution_count": 18,
      "metadata": {},
      "outputs": [],
      "source": [
        "retriever = vector_store.as_retriever(search_kwargs={\"k\": 5})"
      ]
    },
    {
      "cell_type": "code",
      "execution_count": 19,
      "metadata": {},
      "outputs": [
        {
          "data": {
            "text/plain": [
              "[Document(metadata={'producer': 'macOS Version 15.4.1 (Build 24E263) Quartz PDFContext, AppendMode 1.1', 'creator': 'LaTeX with hyperref', 'creationdate': '2025-09-12T20:05:32+00:00', 'source': 'data/howpeopleuseai.pdf', 'file_path': 'data/howpeopleuseai.pdf', 'total_pages': 64, 'format': 'PDF 1.6', 'title': 'How People Use ChatGPT', 'author': '', 'subject': '', 'keywords': '', 'moddate': '2025-09-15T10:32:36-04:00', 'trapped': '', 'modDate': \"D:20250915103236-04'00'\", 'creationDate': 'D:20250912200532Z', 'page': 34, '_id': 'ab54b37d84634b48b06d9e6246a104e4', '_collection_name': 'ai_usage_knowledge_index'}, page_content='Panel A. Work Related\\nPanel B1. Asking.\\nPanel B2. Doing.\\nFigure 23: (continued on next page)\\n33'),\n",
              " Document(metadata={'producer': 'macOS Version 15.4.1 (Build 24E263) Quartz PDFContext, AppendMode 1.1', 'creator': 'LaTeX with hyperref', 'creationdate': '2025-09-12T20:05:32+00:00', 'source': 'data/howpeopleuseai.pdf', 'file_path': 'data/howpeopleuseai.pdf', 'total_pages': 64, 'format': 'PDF 1.6', 'title': 'How People Use ChatGPT', 'author': '', 'subject': '', 'keywords': '', 'moddate': '2025-09-15T10:32:36-04:00', 'trapped': '', 'modDate': \"D:20250915103236-04'00'\", 'creationDate': 'D:20250912200532Z', 'page': 30, '_id': '525a16e38df3437d87222513a5344006', '_collection_name': 'ai_usage_knowledge_index'}, page_content='Panel A. Work Related\\nPanel B1. Asking.\\nPanel B2. Doing.\\nPanel B3. Expressing.\\nFigure 22: (continued on next page)\\n29'),\n",
              " Document(metadata={'producer': 'macOS Version 15.4.1 (Build 24E263) Quartz PDFContext, AppendMode 1.1', 'creator': 'LaTeX with hyperref', 'creationdate': '2025-09-12T20:05:32+00:00', 'source': 'data/howpeopleuseai.pdf', 'file_path': 'data/howpeopleuseai.pdf', 'total_pages': 64, 'format': 'PDF 1.6', 'title': 'How People Use ChatGPT', 'author': '', 'subject': '', 'keywords': '', 'moddate': '2025-09-15T10:32:36-04:00', 'trapped': '', 'modDate': \"D:20250915103236-04'00'\", 'creationDate': 'D:20250912200532Z', 'page': 53, '_id': '805367c0ca4241618e9accd205d82536', '_collection_name': 'ai_usage_knowledge_index'}, page_content=\"E.g. 'User is rewriting email to neighbors about\\nplumbing to be more friendly,'\\nor 'User is complaining about grandmother'\\nor 'User is asking for help fixing python databricks error.'\\n31The IWA classifications were carried out by two annotators, while all other classifications had three.\\n52\"),\n",
              " Document(metadata={'producer': 'macOS Version 15.4.1 (Build 24E263) Quartz PDFContext, AppendMode 1.1', 'creator': 'LaTeX with hyperref', 'creationdate': '2025-09-12T20:05:32+00:00', 'source': 'data/howpeopleuseai.pdf', 'file_path': 'data/howpeopleuseai.pdf', 'total_pages': 64, 'format': 'PDF 1.6', 'title': 'How People Use ChatGPT', 'author': '', 'subject': '', 'keywords': '', 'moddate': '2025-09-15T10:32:36-04:00', 'trapped': '', 'modDate': \"D:20250915103236-04'00'\", 'creationDate': 'D:20250912200532Z', 'page': 37, '_id': 'b07f7a6ebf7445b7bc574f0c11bdb676', '_collection_name': 'ai_usage_knowledge_index'}, page_content='in knowledge-intensive jobs where productivity is increasing in the quality of decision-making.\\n36'),\n",
              " Document(metadata={'producer': 'macOS Version 15.4.1 (Build 24E263) Quartz PDFContext, AppendMode 1.1', 'creator': 'LaTeX with hyperref', 'creationdate': '2025-09-12T20:05:32+00:00', 'source': 'data/howpeopleuseai.pdf', 'file_path': 'data/howpeopleuseai.pdf', 'total_pages': 64, 'format': 'PDF 1.6', 'title': 'How People Use ChatGPT', 'author': '', 'subject': '', 'keywords': '', 'moddate': '2025-09-15T10:32:36-04:00', 'trapped': '', 'modDate': \"D:20250915103236-04'00'\", 'creationDate': 'D:20250912200532Z', 'page': 32, '_id': '460e41e487074db9a11d20f7984d8436', '_collection_name': 'ai_usage_knowledge_index'}, page_content='27As discussed in Section: Data and Privacy, our dataset only includes users on ChatGPT Consumer plans. Corporate\\nusers may also use ChatGPT Business (formerly known as Teams) or ChatGPT Enterprise.\\n28Very few work-related messages are classified as Expressing.\\n29Appendix D contains a full report of GWA counts broken down by occupation, for both work-related ChatGPT\\n31')]"
            ]
          },
          "execution_count": 19,
          "metadata": {},
          "output_type": "execute_result"
        }
      ],
      "source": [
        "retriever.invoke(\"How do people use AI in their daily work?\")"
      ]
    },
    {
      "cell_type": "markdown",
      "metadata": {},
      "source": [
        "#### Creating the Node\n",
        "\n",
        "We're finally ready to create our node!"
      ]
    },
    {
      "cell_type": "code",
      "execution_count": 20,
      "metadata": {
        "id": "05qhncktIwK_"
      },
      "outputs": [],
      "source": [
        "def retrieve(state: State) -> State:\n",
        "  retrieved_docs = retriever.invoke(state[\"question\"])\n",
        "  return {\"context\" : retrieved_docs}"
      ]
    },
    {
      "cell_type": "markdown",
      "metadata": {},
      "source": [
        "### Generate Node\n",
        "\n",
        "Next, let's create our `generate` node - which will leverage LangChain and something called an \"LCEL Chain\" which you can read more about [here](https://python.langchain.com/docs/concepts/lcel/)!\n",
        "\n",
        "We'll want to create a chain that does the following: \n",
        "\n",
        "1. Formats our inputs into a chat template suitable for RAG\n",
        "2. Takes that chat template and sends it to an LLM\n",
        "3. Parses that output into `str` format\n",
        "\n",
        "Let's get chaining!"
      ]
    },
    {
      "cell_type": "markdown",
      "metadata": {},
      "source": [
        "#### Chain Components: RAG Chat Template\n",
        "\n",
        "We'll create a chat template that takes in some query and formats it as a RAG prompt using LangChain's prompt template!"
      ]
    },
    {
      "cell_type": "code",
      "execution_count": 21,
      "metadata": {},
      "outputs": [],
      "source": [
        "from langchain_core.prompts import ChatPromptTemplate\n",
        "\n",
        "HUMAN_TEMPLATE = \"\"\"\n",
        "#CONTEXT:\n",
        "{context}\n",
        "\n",
        "QUERY:\n",
        "{query}\n",
        "\n",
        "Use the provide context to answer the provided user query. Only use the provided context to answer the query. If you do not know the answer, or it's not contained in the provided context response with \"I don't know\"\n",
        "\"\"\"\n",
        "\n",
        "chat_prompt = ChatPromptTemplate.from_messages([\n",
        "    (\"human\", HUMAN_TEMPLATE)\n",
        "])"
      ]
    },
    {
      "cell_type": "code",
      "execution_count": 22,
      "metadata": {},
      "outputs": [
        {
          "data": {
            "text/plain": [
              "'\\n#CONTEXT:\\nOUR CONTEXT HERE\\n\\nQUERY:\\nOUR QUERY HERE\\n\\nUse the provide context to answer the provided user query. Only use the provided context to answer the query. If you do not know the answer, or it\\'s not contained in the provided context response with \"I don\\'t know\"\\n'"
            ]
          },
          "execution_count": 22,
          "metadata": {},
          "output_type": "execute_result"
        }
      ],
      "source": [
        "chat_prompt.invoke({\"context\" : \"OUR CONTEXT HERE\", \"query\" : \"OUR QUERY HERE\"}).messages[0].content"
      ]
    },
    {
      "cell_type": "markdown",
      "metadata": {},
      "source": [
        "##### Chain Components: Generator\n",
        "\n",
        "We'll next set-up the generator - which will be Ollama's `gpt-oss:20b` model running locally!"
      ]
    },
    {
      "cell_type": "code",
      "execution_count": 38,
      "metadata": {},
      "outputs": [],
      "source": [
        "from langchain_ollama import ChatOllama\n",
        "\n",
        "# Using llama3.2:3b which is a smaller, more reliable local model\n",
        "# (Changed from gpt-oss:20b to avoid resource issues)\n",
        "ollama_chat_model = ChatOllama(model=\"llama3.2:3b\", temperature=0.6)"
      ]
    },
    {
      "cell_type": "markdown",
      "metadata": {},
      "source": [
        "Let's now call our model with a formatted prompt.\n",
        "\n",
        "Notice that we have some nested calls here - we'll see that this is made easier by LCEL."
      ]
    },
    {
      "cell_type": "code",
      "execution_count": 39,
      "metadata": {},
      "outputs": [
        {
          "data": {
            "text/plain": [
              "AIMessage(content='The capital of France is Paris.', additional_kwargs={}, response_metadata={'model': 'llama3.2:3b', 'created_at': '2025-09-20T15:44:23.995901Z', 'done': True, 'done_reason': 'stop', 'total_duration': 1306169250, 'load_duration': 830242583, 'prompt_eval_count': 90, 'prompt_eval_duration': 286602083, 'eval_count': 8, 'eval_duration': 188292792, 'model_name': 'llama3.2:3b'}, id='run--7f7a7307-6d5c-40ee-9135-7f8d499a1671-0', usage_metadata={'input_tokens': 90, 'output_tokens': 8, 'total_tokens': 98})"
            ]
          },
          "execution_count": 39,
          "metadata": {},
          "output_type": "execute_result"
        }
      ],
      "source": [
        "ollama_chat_model.invoke(chat_prompt.invoke({\"context\" : \"Paris is the capital of France\", \"query\" : \"What is the capital of France?\"}))"
      ]
    },
    {
      "cell_type": "markdown",
      "metadata": {},
      "source": [
        "#### Chain Components: `str` Parser\n",
        "\n",
        "Finally, let's set-up our `StrOutputParser()` which will transform our model's output into a simple `str` to be provided to the user.\n",
        "\n",
        "> NOTE: You can see us leveraging LCEL in the example below to avoid needing to do nested calls."
      ]
    },
    {
      "cell_type": "code",
      "execution_count": 40,
      "metadata": {},
      "outputs": [
        {
          "data": {
            "text/plain": [
              "'According to the provided context, Paris is indeed the capital of France. Therefore, the answer to the query is:\\n\\nThe capital of France is Paris.'"
            ]
          },
          "execution_count": 40,
          "metadata": {},
          "output_type": "execute_result"
        }
      ],
      "source": [
        "from langchain_core.output_parsers import StrOutputParser\n",
        "\n",
        "generator_chain = chat_prompt | ollama_chat_model | StrOutputParser()\n",
        "\n",
        "generator_chain.invoke({\"context\" : \"Paris is the capital of France\", \"query\" : \"What is the capital of France?\"})"
      ]
    },
    {
      "cell_type": "markdown",
      "metadata": {},
      "source": [
        "### `generate` Node: \n",
        "\n",
        "Now we can create our `generate` Node!"
      ]
    },
    {
      "cell_type": "code",
      "execution_count": 41,
      "metadata": {
        "id": "XiL2isC8JS0l"
      },
      "outputs": [],
      "source": [
        "def generate(state: State) -> State:\n",
        "  generator_chain = chat_prompt | ollama_chat_model | StrOutputParser()\n",
        "  response = generator_chain.invoke({\"query\" : state[\"question\"], \"context\" : state[\"context\"]})\n",
        "  return {\"response\" : response}"
      ]
    },
    {
      "cell_type": "markdown",
      "metadata": {
        "id": "_ZtriMEcJxeR"
      },
      "source": [
        "Now we can start defining our graph!\n",
        "\n",
        "Think of the graph's state as a blank canvas that we can add nodes and edges to.\n",
        "\n",
        "Every graph starts with two special nodes - START and END - the act as the entry and exit point to the other nodes in the graphs.  \n",
        "\n",
        "All valid graphs must start at the START node and end at the END node."
      ]
    },
    {
      "cell_type": "code",
      "execution_count": 42,
      "metadata": {
        "id": "ia9IWM9AJ4bx"
      },
      "outputs": [],
      "source": [
        "# Start with the blank canvas\n",
        "graph_builder = StateGraph(State)"
      ]
    },
    {
      "cell_type": "markdown",
      "metadata": {
        "id": "8kro8bQEL2Yj"
      },
      "source": [
        "Now we can add a sequence to our \"canvas\" (graph) - this can be done by providing a list of nodes, the will automatically have edges that connect the i-th element to the i+1-th element in the list. The final element will be added to the END node unless otherwise specified."
      ]
    },
    {
      "cell_type": "code",
      "execution_count": 43,
      "metadata": {
        "id": "OSfDMlXUL2kh"
      },
      "outputs": [],
      "source": [
        "graph_builder = graph_builder.add_sequence([retrieve, generate])"
      ]
    },
    {
      "cell_type": "markdown",
      "metadata": {
        "id": "g79NZf5VL4en"
      },
      "source": [
        "Next, let's connect our START node to our `retrieve` node by adding an edge."
      ]
    },
    {
      "cell_type": "code",
      "execution_count": 44,
      "metadata": {
        "id": "w1kTJKGNL4qA"
      },
      "outputs": [
        {
          "data": {
            "text/plain": [
              "<langgraph.graph.state.StateGraph at 0x11e4dff50>"
            ]
          },
          "execution_count": 44,
          "metadata": {},
          "output_type": "execute_result"
        }
      ],
      "source": [
        "graph_builder.add_edge(START, \"retrieve\")"
      ]
    },
    {
      "cell_type": "markdown",
      "metadata": {
        "id": "5EiVyt8-L6_5"
      },
      "source": [
        "Finally we can compile our graph! This will do basic verification to ensure that the Runnables have the correct inputs/outputs and can be matched."
      ]
    },
    {
      "cell_type": "code",
      "execution_count": 45,
      "metadata": {
        "id": "TM4My6geL7FW"
      },
      "outputs": [],
      "source": [
        "graph = graph_builder.compile()"
      ]
    },
    {
      "cell_type": "markdown",
      "metadata": {
        "id": "fNvoQcfCP3xI"
      },
      "source": [
        "Finally, we can visualize our graph!"
      ]
    },
    {
      "cell_type": "code",
      "execution_count": null,
      "metadata": {},
      "outputs": [],
      "source": [
        "graph"
      ]
    },
    {
      "cell_type": "markdown",
      "metadata": {
        "id": "sBRCjvvyP8DA"
      },
      "source": [
        "Let's take it for a spin!\n",
        "\n",
        "We invoke our graph like we do any other Runnable in LCEL!\n",
        "\n",
        "> NOTE: That's right, even a compiled graph is a Runnable!"
      ]
    },
    {
      "cell_type": "code",
      "execution_count": 32,
      "metadata": {},
      "outputs": [
        {
          "name": "stdout",
          "output_type": "stream",
          "text": [
            "Testing Ollama model with simple query...\n",
            "✅ Simple query successful!\n",
            "Response: Hello! I’m doing great—thanks for asking. How about you? Anything interesting on your mind today?\n",
            "\n",
            "==================================================\n",
            "Testing with context formatting...\n",
            "✅ Prompt formatting successful!\n",
            "Formatted prompt: \n",
            "#CONTEXT:\n",
            "This is a test context about AI usage in work.\n",
            "\n",
            "QUERY:\n",
            "What is this about?\n",
            "\n",
            "Use the provide context to answer the provided user query. Only use the provided context to answer the query. If ...\n",
            "\n",
            "==================================================\n",
            "Testing full chain...\n",
            "✅ Full chain successful!\n",
            "Result: It’s about AI usage in work.\n"
          ]
        }
      ],
      "source": [
        "# Debug: Test the model with a simple query first\n",
        "print(\"Testing Ollama model with simple query...\")\n",
        "try:\n",
        "    simple_response = ollama_chat_model.invoke(\"Hello, how are you?\")\n",
        "    print(\"✅ Simple query successful!\")\n",
        "    print(f\"Response: {simple_response.content}\")\n",
        "except Exception as e:\n",
        "    print(f\"❌ Simple query failed: {e}\")\n",
        "\n",
        "print(\"\\n\" + \"=\"*50)\n",
        "print(\"Testing with context formatting...\")\n",
        "\n",
        "# Test the prompt template\n",
        "test_context = \"This is a test context about AI usage in work.\"\n",
        "test_query = \"What is this about?\"\n",
        "\n",
        "try:\n",
        "    formatted_prompt = chat_prompt.invoke({\"context\": test_context, \"query\": test_query})\n",
        "    print(\"✅ Prompt formatting successful!\")\n",
        "    print(f\"Formatted prompt: {formatted_prompt.messages[0].content[:200]}...\")\n",
        "except Exception as e:\n",
        "    print(f\"❌ Prompt formatting failed: {e}\")\n",
        "\n",
        "print(\"\\n\" + \"=\"*50)\n",
        "print(\"Testing full chain...\")\n",
        "\n",
        "try:\n",
        "    test_chain = chat_prompt | ollama_chat_model | StrOutputParser()\n",
        "    result = test_chain.invoke({\"context\": test_context, \"query\": test_query})\n",
        "    print(\"✅ Full chain successful!\")\n",
        "    print(f\"Result: {result}\")\n",
        "except Exception as e:\n",
        "    print(f\"❌ Full chain failed: {e}\")\n",
        "    print(f\"Error type: {type(e).__name__}\")\n",
        "    print(f\"Error details: {str(e)}\")\n"
      ]
    },
    {
      "cell_type": "code",
      "execution_count": 33,
      "metadata": {},
      "outputs": [
        {
          "name": "stdout",
          "output_type": "stream",
          "text": [
            "Testing retriever...\n",
            "✅ Retriever successful! Retrieved 5 documents\n",
            "Total context length: 837 characters\n",
            "First document preview: Panel A. Work Related\n",
            "Panel B1. Asking.\n",
            "Panel B2. Doing.\n",
            "Figure 23: (continued on next page)\n",
            "33...\n",
            "\n",
            "==================================================\n",
            "Testing with smaller context...\n",
            "Testing generate function with small context...\n",
            "✅ Generate function successful!\n",
            "Response: I don’t know....\n"
          ]
        }
      ],
      "source": [
        "# Debug: Test the retriever and context\n",
        "print(\"Testing retriever...\")\n",
        "try:\n",
        "    test_question = \"What are the most common ways people use AI in their work?\"\n",
        "    retrieved_docs = retriever.invoke(test_question)\n",
        "    print(f\"✅ Retriever successful! Retrieved {len(retrieved_docs)} documents\")\n",
        "    \n",
        "    # Check the context size and content\n",
        "    total_context_length = sum(len(doc.page_content) for doc in retrieved_docs)\n",
        "    print(f\"Total context length: {total_context_length} characters\")\n",
        "    \n",
        "    # Show first document preview\n",
        "    if retrieved_docs:\n",
        "        print(f\"First document preview: {retrieved_docs[0].page_content[:200]}...\")\n",
        "        \n",
        "    # Test with smaller context\n",
        "    print(\"\\n\" + \"=\"*50)\n",
        "    print(\"Testing with smaller context...\")\n",
        "    \n",
        "    # Create a smaller context for testing\n",
        "    small_context = [retrieved_docs[0]] if retrieved_docs else []\n",
        "    \n",
        "    # Test the generate function with smaller context\n",
        "    test_state = {\n",
        "        \"question\": test_question,\n",
        "        \"context\": small_context,\n",
        "        \"response\": \"\"\n",
        "    }\n",
        "    \n",
        "    print(\"Testing generate function with small context...\")\n",
        "    result = generate(test_state)\n",
        "    print(f\"✅ Generate function successful!\")\n",
        "    print(f\"Response: {result['response'][:200]}...\")\n",
        "    \n",
        "except Exception as e:\n",
        "    print(f\"❌ Retriever test failed: {e}\")\n",
        "    print(f\"Error type: {type(e).__name__}\")\n",
        "    print(f\"Error details: {str(e)}\")\n"
      ]
    },
    {
      "cell_type": "code",
      "execution_count": 35,
      "metadata": {},
      "outputs": [
        {
          "name": "stdout",
          "output_type": "stream",
          "text": [
            "Testing with alternative smaller model...\n",
            "Available models:\n",
            "NAME                     ID              SIZE      MODIFIED       \n",
            "llama3.2:3b              a80c4f17acd5    2.0 GB    17 seconds ago    \n",
            "gpt-oss:20b              aa4295ac10c3    13 GB     12 minutes ago    \n",
            "embeddinggemma:latest    85462619ee72    621 MB    39 hours ago      \n",
            "\n",
            "Testing with llama3.2:3b...\n",
            "✅ Smaller model works! Response: I'm just a language model, so I don't have feelings or emotions like humans do. However, I'm functio...\n",
            "Updating generate function to use smaller model...\n",
            "✅ Smaller model setup complete!\n"
          ]
        }
      ],
      "source": [
        "# Alternative: Test with a smaller model if gpt-oss:20b fails\n",
        "print(\"Testing with alternative smaller model...\")\n",
        "\n",
        "# Check what other models are available\n",
        "import subprocess\n",
        "result = subprocess.run(['ollama', 'list'], capture_output=True, text=True)\n",
        "print(\"Available models:\")\n",
        "print(result.stdout)\n",
        "\n",
        "# Try with a smaller model if available\n",
        "try:\n",
        "    # Try llama3.2 if available, otherwise stick with gpt-oss:20b\n",
        "    smaller_model = ChatOllama(model=\"llama3.2:3b\", temperature=0.6)\n",
        "    print(\"Testing with llama3.2:3b...\")\n",
        "    \n",
        "    test_response = smaller_model.invoke(\"Hello, how are you?\")\n",
        "    print(f\"✅ Smaller model works! Response: {test_response.content[:100]}...\")\n",
        "    \n",
        "    # Update the model in the generate function\n",
        "    print(\"Updating generate function to use smaller model...\")\n",
        "    def generate_with_smaller_model(state: State) -> State:\n",
        "        generator_chain = chat_prompt | smaller_model | StrOutputParser()\n",
        "        response = generator_chain.invoke({\"query\" : state[\"question\"], \"context\" : state[\"context\"]})\n",
        "        return {\"response\" : response}\n",
        "    \n",
        "    print(\"✅ Smaller model setup complete!\")\n",
        "    \n",
        "except Exception as e:\n",
        "    print(f\"❌ Smaller model test failed: {e}\")\n",
        "    print(\"Will continue with gpt-oss:20b\")\n"
      ]
    },
    {
      "cell_type": "code",
      "execution_count": 36,
      "metadata": {},
      "outputs": [
        {
          "name": "stdout",
          "output_type": "stream",
          "text": [
            "Rebuilding graph with robust generate function...\n",
            "✅ Robust graph created!\n"
          ]
        }
      ],
      "source": [
        "# Create a more robust generate function that handles errors\n",
        "def generate_robust(state: State) -> State:\n",
        "    \"\"\"Generate function with error handling and fallback model\"\"\"\n",
        "    try:\n",
        "        # Try with the original model first\n",
        "        generator_chain = chat_prompt | ollama_chat_model | StrOutputParser()\n",
        "        response = generator_chain.invoke({\"query\" : state[\"question\"], \"context\" : state[\"context\"]})\n",
        "        return {\"response\" : response}\n",
        "    except Exception as e:\n",
        "        print(f\"⚠️ Original model failed: {e}\")\n",
        "        print(\"Trying with smaller model...\")\n",
        "        \n",
        "        try:\n",
        "            # Fallback to smaller model\n",
        "            smaller_model = ChatOllama(model=\"llama3.2:3b\", temperature=0.6)\n",
        "            generator_chain = chat_prompt | smaller_model | StrOutputParser()\n",
        "            response = generator_chain.invoke({\"query\" : state[\"question\"], \"context\" : state[\"context\"]})\n",
        "            return {\"response\" : response}\n",
        "        except Exception as e2:\n",
        "            print(f\"❌ Both models failed: {e2}\")\n",
        "            return {\"response\" : \"I apologize, but I'm experiencing technical difficulties and cannot process your request at the moment.\"}\n",
        "\n",
        "# Rebuild the graph with the robust generate function\n",
        "print(\"Rebuilding graph with robust generate function...\")\n",
        "graph_builder_robust = StateGraph(State)\n",
        "graph_builder_robust = graph_builder_robust.add_sequence([retrieve, generate_robust])\n",
        "graph_builder_robust.add_edge(START, \"retrieve\")\n",
        "graph_robust = graph_builder_robust.compile()\n",
        "\n",
        "print(\"✅ Robust graph created!\")\n"
      ]
    },
    {
      "cell_type": "code",
      "execution_count": 37,
      "metadata": {},
      "outputs": [
        {
          "name": "stdout",
          "output_type": "stream",
          "text": [
            "Testing robust graph with a simple question...\n",
            "⚠️ Original model failed: model runner has unexpectedly stopped, this may be due to resource limitations or an internal error, check ollama server logs for details (status code: -1)\n",
            "Trying with smaller model...\n",
            "✅ Robust graph successful!\n",
            "Response: Based on the provided context, the most common ways people use AI in their work are:\n",
            "\n",
            "1. Productivity: The PDF mentions that productivity is increasing in the quality of decision-making in knowledge-intensive jobs.\n",
            "2. Decision-making: It also mentions that the IWA classifications were carried out by...\n"
          ]
        },
        {
          "data": {
            "text/markdown": [
              "Based on the provided context, the most common ways people use AI in their work are:\n",
              "\n",
              "1. Productivity: The PDF mentions that productivity is increasing in the quality of decision-making in knowledge-intensive jobs.\n",
              "2. Decision-making: It also mentions that the IWA classifications were carried out by two annotators, while all other classifications had three, which implies that AI is being used to assist with classification and decision-making tasks.\n",
              "\n",
              "Additionally, the context mentions that users are using AI for various tasks such as rewriting emails, asking for help fixing errors, and expressing themselves in a more friendly manner. However, it's not clear if these are specific examples of how people use AI in their work or just general examples of AI usage.\n",
              "\n",
              "It's worth noting that the context does not provide a comprehensive list of common ways people use AI in their work, but rather provides a few snippets of information that suggest AI is being used to enhance productivity and decision-making."
            ],
            "text/plain": [
              "<IPython.core.display.Markdown object>"
            ]
          },
          "metadata": {},
          "output_type": "display_data"
        }
      ],
      "source": [
        "# Test the robust graph\n",
        "print(\"Testing robust graph with a simple question...\")\n",
        "try:\n",
        "    response = graph_robust.invoke({\"question\" : \"What are the most common ways people use AI in their work?\"})\n",
        "    print(\"✅ Robust graph successful!\")\n",
        "    print(f\"Response: {response['response'][:300]}...\")\n",
        "    \n",
        "    # Display the response nicely\n",
        "    from IPython.display import Markdown, display\n",
        "    display(Markdown(response[\"response\"]))\n",
        "    \n",
        "except Exception as e:\n",
        "    print(f\"❌ Robust graph failed: {e}\")\n",
        "    print(f\"Error type: {type(e).__name__}\")\n",
        "    print(f\"Error details: {str(e)}\")\n"
      ]
    },
    {
      "cell_type": "code",
      "execution_count": 46,
      "metadata": {
        "colab": {
          "base_uri": "https://localhost:8080/",
          "height": 105
        },
        "id": "mSbsRLurKOKd",
        "outputId": "114185f3-4b98-4c66-96cd-65f4e4e3ef1d"
      },
      "outputs": [
        {
          "data": {
            "text/markdown": [
              "Based on the provided context, there is no direct information about the most common ways people use AI in their work. However, we can infer some insights from the text.\n",
              "\n",
              "From the page content, we see that:\n",
              "\n",
              "* Users are using AI for tasks such as rewriting emails to be more friendly (Document 2, page 31).\n",
              "* There are IWA classifications that were carried out by two annotators, while all other classifications had three (Document 1, page 33).\n",
              "* The text mentions \"knowledge-intensive jobs\" and \"increasing in the quality of decision-making\" (Document 3, page 36), which might imply that AI is being used to improve productivity and decision-making in certain work settings.\n",
              "\n",
              "However, we cannot conclude with certainty what the most common ways people use AI in their work are based on this context alone."
            ],
            "text/plain": [
              "<IPython.core.display.Markdown object>"
            ]
          },
          "metadata": {},
          "output_type": "display_data"
        }
      ],
      "source": [
        "from IPython.display import Markdown, display\n",
        "response = graph.invoke({\"question\" : \"What are the most common ways people use AI in their work?\"})\n",
        "display(Markdown(response[\"response\"]))"
      ]
    },
    {
      "cell_type": "code",
      "execution_count": 47,
      "metadata": {
        "colab": {
          "base_uri": "https://localhost:8080/",
          "height": 35
        },
        "id": "a_jEmE_rKwED",
        "outputId": "c5fac807-2a24-4cf9-8cca-105def13e3d8"
      },
      "outputs": [
        {
          "data": {
            "text/markdown": [
              "Based on the provided context, there is no clear indication that people use AI for their personal lives. The documents appear to be related to a study or analysis of how people use AI in various contexts, such as work-related tasks.\n",
              "\n",
              "The documents mention panels, figures, and classifications related to AI usage in knowledge-intensive jobs, but do not provide information about personal use of AI. Therefore, I would answer the query with \"I don't know\"."
            ],
            "text/plain": [
              "<IPython.core.display.Markdown object>"
            ]
          },
          "metadata": {},
          "output_type": "display_data"
        }
      ],
      "source": [
        "response = graph.invoke({\"question\" : \"Do people use AI for their personal lives?\"})\n",
        "display(Markdown(response[\"response\"]))"
      ]
    },
    {
      "cell_type": "code",
      "execution_count": null,
      "metadata": {},
      "outputs": [],
      "source": [
        "\n"
      ]
    },
    {
      "cell_type": "code",
      "execution_count": 48,
      "metadata": {},
      "outputs": [
        {
          "data": {
            "text/markdown": [
              "Based on the provided context, I couldn't find any information that directly answers the question of what concerns or challenges people have when using AI.\n",
              "\n",
              "However, one possible concern mentioned is social desirability bias (mentioned in the document with page 38), which refers to the tendency for people to provide more socially acceptable responses than their true thoughts or feelings. This bias can affect the accuracy and reliability of data collected on AI usage.\n",
              "\n",
              "Additionally, the document mentions that \"in knowledge-intensive jobs where productivity is increasing in the quality of decision-making\" (page 36), but this doesn't necessarily imply a concern or challenge specific to using AI itself.\n",
              "\n",
              "Therefore, I must respond with:\n",
              "\n",
              "\"I don't know.\""
            ],
            "text/plain": [
              "<IPython.core.display.Markdown object>"
            ]
          },
          "metadata": {},
          "output_type": "display_data"
        }
      ],
      "source": [
        "response = graph.invoke({\"question\" : \"What concerns or challenges do people have when using AI?\"})\n",
        "display(Markdown(response[\"response\"]))"
      ]
    },
    {
      "cell_type": "code",
      "execution_count": 49,
      "metadata": {},
      "outputs": [
        {
          "data": {
            "text/markdown": [
              "I don't know who Batman is."
            ],
            "text/plain": [
              "<IPython.core.display.Markdown object>"
            ]
          },
          "metadata": {},
          "output_type": "display_data"
        }
      ],
      "source": [
        "response = graph.invoke({\"question\" : \"Who is Batman?\"})\n",
        "display(Markdown(response[\"response\"]))"
      ]
    },
    {
      "cell_type": "markdown",
      "metadata": {
        "id": "E_LRYXvvRjOp"
      },
      "source": [
        "#### ❓ Question #2:\n",
        "LangGraph's graph-based approach lets us visualize and manage complex flows naturally. How could we extend our current implementation to handle edge cases? For example:\n",
        "- What if the retriever finds no relevant context?  \n",
        "- What if the response needs fact-checking?\n",
        "Consider how you would modify the graph to handle these scenarios.\n",
        "\n",
        "\n"
      ]
    },
    {
      "cell_type": "markdown",
      "metadata": {},
      "source": [
        "##### ✅ Answers\n",
        "\n",
        "2.1 # To handle cases where the retriever finds no relevant context, we can add a **validation node** that checks the quality and relevance of retrieved documents before generation:\n"
      ]
    },
    {
      "cell_type": "code",
      "execution_count": 56,
      "metadata": {},
      "outputs": [],
      "source": [
        "\n",
        "def validate_context(state: State) -> State:\n",
        "    \"\"\"Validate that we have sufficient relevant context\"\"\"\n",
        "    context = state[\"context\"]\n",
        "    \n",
        "    # Check if context is empty or too short\n",
        "    if not context or len(context) == 0:\n",
        "        return {\n",
        "            \"context\": [],\n",
        "            \"response\": \"I don't have enough relevant information in my knowledge base to answer your question. Please try rephrasing your question or asking about a different topic.\",\n",
        "            \"needs_human\": True\n",
        "        }\n",
        "    \n",
        "    # Check if context is too short (less than 50 characters)\n",
        "    total_content = \" \".join([doc.page_content for doc in context])\n",
        "    if len(total_content.strip()) < 50:\n",
        "        return {\n",
        "            \"context\": context,\n",
        "            \"response\": \"I found some information, but it may not be sufficient to provide a complete answer. Here's what I found:\",\n",
        "            \"needs_human\": True\n",
        "        }\n",
        "    \n",
        "    return {\"context\": context, \"needs_human\": False}\n",
        "\n"
      ]
    },
    {
      "cell_type": "markdown",
      "metadata": {},
      "source": [
        "##### ✅ Answers\n",
        "\n",
        "\n",
        "2.2 # For fact-checking, we can add a **verification node** that cross-references the generated response with the retrieved context:"
      ]
    },
    {
      "cell_type": "code",
      "execution_count": 55,
      "metadata": {},
      "outputs": [],
      "source": [
        "\n",
        "def fact_check_response(state: State) -> State:\n",
        "    \"\"\"Verify the response against the retrieved context\"\"\"\n",
        "    response = state[\"response\"]\n",
        "    context = state[\"context\"]\n",
        "    \n",
        "    # Extract key claims from the response\n",
        "    response_lower = response.lower()\n",
        "    context_text = \" \".join([doc.page_content.lower() for doc in context])\n",
        "    \n",
        "    # Check if response contains information not in context\n",
        "    suspicious_phrases = [\"definitely\", \"always\", \"never\", \"all\", \"every\"]\n",
        "    contains_unsupported_claims = any(phrase in response_lower for phrase in suspicious_phrases)\n",
        "    \n",
        "    if contains_unsupported_claims and len(context_text) < 100:\n",
        "        return {\n",
        "            \"response\": f\"⚠️ {response}\\n\\n*Note: This response may contain unsupported claims. Please verify with additional sources.*\",\n",
        "            \"confidence_score\": 0.3\n",
        "        }\n",
        "    \n",
        "    return {\n",
        "        \"response\": response,\n",
        "        \"confidence_score\": 0.8\n",
        "    }\n",
        "\n",
        "\n",
        "### **Enhanced Graph Structure**\n",
        "\n",
        "\n",
        "# Enhanced State with validation flags\n",
        "class EnhancedState(TypedDict):\n",
        "    question: str\n",
        "    context: list[Document]\n",
        "    response: str\n",
        "    needs_human: bool\n",
        "    confidence_score: float\n",
        "\n",
        "# Enhanced graph with validation and fact-checking\n",
        "def create_enhanced_rag_graph():\n",
        "    graph_builder = StateGraph(EnhancedState)\n",
        "    \n",
        "    # Add all nodes\n",
        "    graph_builder.add_node(\"retrieve\", retrieve)\n",
        "    graph_builder.add_node(\"validate_context\", validate_context)\n",
        "    graph_builder.add_node(\"generate\", generate)\n",
        "    graph_builder.add_node(\"fact_check\", fact_check_response)\n",
        "    \n",
        "    # Add conditional edges\n",
        "    def should_continue(state: EnhancedState) -> str:\n",
        "        if state.get(\"needs_human\", False):\n",
        "            return \"end\"\n",
        "        return \"generate\"\n",
        "    \n",
        "    # Build the flow\n",
        "    graph_builder.add_edge(START, \"retrieve\")\n",
        "    graph_builder.add_edge(\"retrieve\", \"validate_context\")\n",
        "    graph_builder.add_conditional_edges(\"validate_context\", should_continue, {\n",
        "        \"generate\": \"generate\",\n",
        "        \"end\": END\n",
        "    })\n",
        "    graph_builder.add_edge(\"generate\", \"fact_check\")\n",
        "    graph_builder.add_edge(\"fact_check\", END)\n",
        "    \n",
        "    return graph_builder.compile()\n"
      ]
    }
  ],
  "metadata": {
    "accelerator": "GPU",
    "colab": {
      "gpuType": "T4",
      "machine_shape": "hm",
      "provenance": [],
      "toc_visible": true
    },
    "kernelspec": {
      "display_name": ".venv",
      "language": "python",
      "name": "python3"
    },
    "language_info": {
      "codemirror_mode": {
        "name": "ipython",
        "version": 3
      },
      "file_extension": ".py",
      "mimetype": "text/x-python",
      "name": "python",
      "nbconvert_exporter": "python",
      "pygments_lexer": "ipython3",
      "version": "3.12.11"
    }
  },
  "nbformat": 4,
  "nbformat_minor": 0
}
